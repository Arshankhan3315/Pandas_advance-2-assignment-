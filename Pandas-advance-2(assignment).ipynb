{
 "cells": [
  {
   "cell_type": "markdown",
   "id": "294a67b8-53c7-41e6-9d13-e97a6ba50c96",
   "metadata": {},
   "source": [
    "# Pandas Advance-2"
   ]
  },
  {
   "cell_type": "markdown",
   "id": "8297cc9d-6664-4612-a8a1-672888e505e4",
   "metadata": {},
   "source": [
    "# Consider following code to answer further questions:\n",
    "import pandas as pd\n",
    "course_name = [‘Data Science’, ‘Machine Learning’, ‘Big Data’, ‘Data Engineer’]\n",
    "duration = [2,3,6,4]\n",
    "df = pd.DataFrame(data = {‘course_name’ : course_name, ‘duration’ : duration})"
   ]
  },
  {
   "cell_type": "code",
   "execution_count": 1,
   "id": "05ab8759-a301-4b6a-b580-901ebe8dcfc6",
   "metadata": {},
   "outputs": [],
   "source": [
    "import pandas as pd"
   ]
  },
  {
   "cell_type": "code",
   "execution_count": 7,
   "id": "5fdf1f9b-a891-47e1-ac8f-98a46ab3c865",
   "metadata": {},
   "outputs": [],
   "source": [
    "course_name = ['Data Science', 'Machine Learning', 'Big Data', 'Data Engineer']"
   ]
  },
  {
   "cell_type": "code",
   "execution_count": 8,
   "id": "85e2df25-5ddc-4192-adfa-b9aa3ffc3e99",
   "metadata": {},
   "outputs": [],
   "source": [
    "duration = [2,3,6,4]"
   ]
  },
  {
   "cell_type": "code",
   "execution_count": 9,
   "id": "e33cc528-719f-4137-897b-633079e5282b",
   "metadata": {},
   "outputs": [],
   "source": [
    "df = pd.DataFrame(data = {'course_name' : course_name, 'duration' : duration})"
   ]
  },
  {
   "cell_type": "code",
   "execution_count": 10,
   "id": "abff6650-14b3-44c9-ba03-e12859672491",
   "metadata": {},
   "outputs": [
    {
     "data": {
      "text/html": [
       "<div>\n",
       "<style scoped>\n",
       "    .dataframe tbody tr th:only-of-type {\n",
       "        vertical-align: middle;\n",
       "    }\n",
       "\n",
       "    .dataframe tbody tr th {\n",
       "        vertical-align: top;\n",
       "    }\n",
       "\n",
       "    .dataframe thead th {\n",
       "        text-align: right;\n",
       "    }\n",
       "</style>\n",
       "<table border=\"1\" class=\"dataframe\">\n",
       "  <thead>\n",
       "    <tr style=\"text-align: right;\">\n",
       "      <th></th>\n",
       "      <th>course_name</th>\n",
       "      <th>duration</th>\n",
       "    </tr>\n",
       "  </thead>\n",
       "  <tbody>\n",
       "    <tr>\n",
       "      <th>0</th>\n",
       "      <td>Data Science</td>\n",
       "      <td>2</td>\n",
       "    </tr>\n",
       "    <tr>\n",
       "      <th>1</th>\n",
       "      <td>Machine Learning</td>\n",
       "      <td>3</td>\n",
       "    </tr>\n",
       "    <tr>\n",
       "      <th>2</th>\n",
       "      <td>Big Data</td>\n",
       "      <td>6</td>\n",
       "    </tr>\n",
       "    <tr>\n",
       "      <th>3</th>\n",
       "      <td>Data Engineer</td>\n",
       "      <td>4</td>\n",
       "    </tr>\n",
       "  </tbody>\n",
       "</table>\n",
       "</div>"
      ],
      "text/plain": [
       "        course_name  duration\n",
       "0      Data Science         2\n",
       "1  Machine Learning         3\n",
       "2          Big Data         6\n",
       "3     Data Engineer         4"
      ]
     },
     "execution_count": 10,
     "metadata": {},
     "output_type": "execute_result"
    }
   ],
   "source": [
    "df"
   ]
  },
  {
   "cell_type": "markdown",
   "id": "10eed91c-c176-4c4a-b299-b75dbf883506",
   "metadata": {},
   "source": [
    "# Question-1. Write a code to print the data present in the second row of the dataframe, df."
   ]
  },
  {
   "cell_type": "markdown",
   "id": "f378fe8e-c2e7-4210-983d-c59357f1bc99",
   "metadata": {},
   "source": [
    "# Answer-1"
   ]
  },
  {
   "cell_type": "code",
   "execution_count": 11,
   "id": "69d18989-9b60-4805-8999-b546d1d32f72",
   "metadata": {},
   "outputs": [
    {
     "name": "stdout",
     "output_type": "stream",
     "text": [
      "course_name    Machine Learning\n",
      "duration                      3\n",
      "Name: 1, dtype: object\n"
     ]
    }
   ],
   "source": [
    "print(df.iloc[1])"
   ]
  },
  {
   "cell_type": "markdown",
   "id": "9d9e95b3-946e-4074-872a-7eb421c51f7f",
   "metadata": {},
   "source": [
    "# Question-2. What is the difference between the functions loc and iloc in pandas.DataFrame?"
   ]
  },
  {
   "cell_type": "markdown",
   "id": "e67e5add-4204-4264-bc64-441688eb2a18",
   "metadata": {},
   "source": [
    "# Answer-2 The loc and iloc functions in pandas.DataFrame are used for label-based and integer-location-based indexing, respectively.\n",
    "\n",
    "# loc is label-based, which means you specify the name of the rows and columns you want to retrieve.\n",
    "# iloc is integer-location-based, where you specify rows and columns by their integer index."
   ]
  },
  {
   "cell_type": "markdown",
   "id": "accc0185-ca7d-4072-9925-dec9bf20e953",
   "metadata": {},
   "source": [
    "# Question-3. Reindex the given dataframe using a variable, reindex = [3,0,1,2] and store it in the variable, new_df then find the output for both new_df.loc[2] and new_df.iloc[2].\n",
    "Did you observe any difference in both the outputs? If so then explain it.\n",
    "Consider the below code to answer further questions:\n",
    "import pandas as pd\n",
    "import numpy as np\n",
    "columns = ['column_1', 'column_2', 'column_3', 'column_4', 'column_5', 'column_6']\n",
    "indices = [1,2,3,4,5,6]\n",
    "#Creating a dataframe:\n",
    "df1 = pd.DataFrame(np.random.rand(6,6), columns = columns, index = indices)"
   ]
  },
  {
   "cell_type": "markdown",
   "id": "3cb1e2cc-9b0e-4728-8c64-0a6bc2645570",
   "metadata": {},
   "source": [
    "# Answer-3-"
   ]
  },
  {
   "cell_type": "code",
   "execution_count": 12,
   "id": "3421fb48-30f1-4ca2-83fe-ce714bb62a67",
   "metadata": {},
   "outputs": [],
   "source": [
    "reindex = [3, 0, 1, 2]"
   ]
  },
  {
   "cell_type": "code",
   "execution_count": 13,
   "id": "65faa6c2-4b7d-4df6-bad6-522af873fbae",
   "metadata": {},
   "outputs": [],
   "source": [
    "new_df = df.reindex(reindex)"
   ]
  },
  {
   "cell_type": "code",
   "execution_count": 14,
   "id": "a438bf52-e5ea-4caa-adfb-b590bbed6048",
   "metadata": {},
   "outputs": [
    {
     "name": "stdout",
     "output_type": "stream",
     "text": [
      "Using loc: course_name    Big Data\n",
      "duration              6\n",
      "Name: 2, dtype: object\n",
      "Using iloc: course_name    Machine Learning\n",
      "duration                      3\n",
      "Name: 1, dtype: object\n"
     ]
    }
   ],
   "source": [
    "print(\"Using loc:\", new_df.loc[2])\n",
    "print(\"Using iloc:\", new_df.iloc[2])"
   ]
  },
  {
   "cell_type": "markdown",
   "id": "8ae4e368-f98a-4007-9e0c-17adaf00246a",
   "metadata": {},
   "source": [
    "# Q4. Write a code to find the following statistical measurements for the above dataframe df1:\n",
    "# (i) mean of each and every column present in the dataframe.\n",
    "# (ii) standard deviation of column, ‘column_2’"
   ]
  },
  {
   "cell_type": "markdown",
   "id": "0258c2e9-f881-4db1-b941-46951ea838c2",
   "metadata": {},
   "source": [
    "# Answer-4-"
   ]
  },
  {
   "cell_type": "code",
   "execution_count": 15,
   "id": "45464c29-d10c-4822-99e7-1d0ad4d9fac8",
   "metadata": {},
   "outputs": [
    {
     "name": "stdout",
     "output_type": "stream",
     "text": [
      "Mean of each column:\n"
     ]
    }
   ],
   "source": [
    "print(\"Mean of each column:\")"
   ]
  },
  {
   "cell_type": "code",
   "execution_count": 16,
   "id": "5a6558a2-df49-4b97-9aa8-142eff1ee1a6",
   "metadata": {},
   "outputs": [
    {
     "name": "stdout",
     "output_type": "stream",
     "text": [
      "duration    3.75\n",
      "dtype: float64\n"
     ]
    },
    {
     "name": "stderr",
     "output_type": "stream",
     "text": [
      "/tmp/ipykernel_77/2807316344.py:1: FutureWarning: The default value of numeric_only in DataFrame.mean is deprecated. In a future version, it will default to False. In addition, specifying 'numeric_only=None' is deprecated. Select only valid columns or specify the value of numeric_only to silence this warning.\n",
      "  print(df.mean())\n"
     ]
    }
   ],
   "source": [
    "print(df.mean())"
   ]
  },
  {
   "cell_type": "code",
   "execution_count": 17,
   "id": "1c13884d-5652-4953-b119-e9f74886cda2",
   "metadata": {},
   "outputs": [
    {
     "name": "stdout",
     "output_type": "stream",
     "text": [
      "\n",
      "Standard deviation of column 'duration':\n"
     ]
    }
   ],
   "source": [
    "print(\"\\nStandard deviation of column 'duration':\")"
   ]
  },
  {
   "cell_type": "code",
   "execution_count": 18,
   "id": "0d099f12-a3a5-4873-afce-72911d0f48e8",
   "metadata": {},
   "outputs": [
    {
     "name": "stdout",
     "output_type": "stream",
     "text": [
      "1.707825127659933\n"
     ]
    }
   ],
   "source": [
    "print(df['duration'].std())"
   ]
  },
  {
   "cell_type": "markdown",
   "id": "3bc72491-bf8a-469d-832c-ceeb0bccf9c1",
   "metadata": {},
   "source": [
    "# Q5. Replace the data present in the second row of column, ‘column_2’ by a string variable then find the mean of column, column_2. If you are getting errors in executing it then explain why.\n",
    "[Hint: To replace the data use df1.loc[] and equate this to string data of your choice.]"
   ]
  },
  {
   "cell_type": "markdown",
   "id": "1220c493-a26c-439b-98e6-1ae70ad7e21f",
   "metadata": {},
   "source": [
    "# Answer-5-"
   ]
  },
  {
   "cell_type": "code",
   "execution_count": 24,
   "id": "25c28c5b-cf48-4549-8f81-95726d138b36",
   "metadata": {},
   "outputs": [
    {
     "data": {
      "text/html": [
       "<div>\n",
       "<style scoped>\n",
       "    .dataframe tbody tr th:only-of-type {\n",
       "        vertical-align: middle;\n",
       "    }\n",
       "\n",
       "    .dataframe tbody tr th {\n",
       "        vertical-align: top;\n",
       "    }\n",
       "\n",
       "    .dataframe thead th {\n",
       "        text-align: right;\n",
       "    }\n",
       "</style>\n",
       "<table border=\"1\" class=\"dataframe\">\n",
       "  <thead>\n",
       "    <tr style=\"text-align: right;\">\n",
       "      <th></th>\n",
       "      <th>course_name</th>\n",
       "      <th>duration</th>\n",
       "    </tr>\n",
       "  </thead>\n",
       "  <tbody>\n",
       "    <tr>\n",
       "      <th>0</th>\n",
       "      <td>Data Science</td>\n",
       "      <td>2</td>\n",
       "    </tr>\n",
       "    <tr>\n",
       "      <th>1</th>\n",
       "      <td>Machine Learning</td>\n",
       "      <td>3</td>\n",
       "    </tr>\n",
       "    <tr>\n",
       "      <th>2</th>\n",
       "      <td>Big Data</td>\n",
       "      <td>6</td>\n",
       "    </tr>\n",
       "    <tr>\n",
       "      <th>3</th>\n",
       "      <td>Data Engineer</td>\n",
       "      <td>4</td>\n",
       "    </tr>\n",
       "  </tbody>\n",
       "</table>\n",
       "</div>"
      ],
      "text/plain": [
       "        course_name  duration\n",
       "0      Data Science         2\n",
       "1  Machine Learning         3\n",
       "2          Big Data         6\n",
       "3     Data Engineer         4"
      ]
     },
     "execution_count": 24,
     "metadata": {},
     "output_type": "execute_result"
    }
   ],
   "source": [
    "df"
   ]
  },
  {
   "cell_type": "code",
   "execution_count": 25,
   "id": "a4415860-b13e-4412-8c19-d584171fec53",
   "metadata": {},
   "outputs": [
    {
     "ename": "AttributeError",
     "evalue": "'str' object has no attribute 'loc'",
     "output_type": "error",
     "traceback": [
      "\u001b[0;31m---------------------------------------------------------------------------\u001b[0m",
      "\u001b[0;31mAttributeError\u001b[0m                            Traceback (most recent call last)",
      "Cell \u001b[0;32mIn[25], line 1\u001b[0m\n\u001b[0;32m----> 1\u001b[0m \u001b[43mdf1\u001b[49m\u001b[38;5;241;43m.\u001b[39;49m\u001b[43mloc\u001b[49m[\u001b[38;5;241m2\u001b[39m, \u001b[38;5;124m'\u001b[39m\u001b[38;5;124mduration\u001b[39m\u001b[38;5;124m'\u001b[39m] \u001b[38;5;241m=\u001b[39m \u001b[38;5;124m'\u001b[39m\u001b[38;5;124mtwo\u001b[39m\u001b[38;5;124m'\u001b[39m\n\u001b[1;32m      3\u001b[0m df1[\u001b[38;5;124m'\u001b[39m\u001b[38;5;124mduration\u001b[39m\u001b[38;5;124m'\u001b[39m] \u001b[38;5;241m=\u001b[39m pd\u001b[38;5;241m.\u001b[39mto_numeric(df1[\u001b[38;5;124m'\u001b[39m\u001b[38;5;124mduration\u001b[39m\u001b[38;5;124m'\u001b[39m], errors\u001b[38;5;241m=\u001b[39m\u001b[38;5;124m'\u001b[39m\u001b[38;5;124mcoerce\u001b[39m\u001b[38;5;124m'\u001b[39m)\n\u001b[1;32m      5\u001b[0m mean_column_2 \u001b[38;5;241m=\u001b[39m df1[\u001b[38;5;124m'\u001b[39m\u001b[38;5;124mduration\u001b[39m\u001b[38;5;124m'\u001b[39m]\u001b[38;5;241m.\u001b[39mmean()\n",
      "\u001b[0;31mAttributeError\u001b[0m: 'str' object has no attribute 'loc'"
     ]
    }
   ],
   "source": [
    "df1.loc[2, 'duration'] = 'two'\n",
    "\n",
    "df1['duration'] = pd.to_numeric(df1['duration'], errors='coerce')\n",
    "\n",
    "mean_column_2 = df1['duration'].mean()\n",
    "print(\"Mean of column_2:\", mean_column_2)"
   ]
  },
  {
   "cell_type": "markdown",
   "id": "2dd4faa5-ee14-409a-993a-6d4c0dd31b52",
   "metadata": {},
   "source": [
    "# Explanation:\n",
    "\n",
    "# When you replace data in a DataFrame using df.loc[row, column], it's important to ensure the data type of the column is appropriate. If 'column_2' originally contained numerical data and you replace it with a string like 'your_string_data', it will result in the column's data type becoming object (string).\n",
    "# To calculate the mean, we need numeric data, so we convert 'column_2' back to numeric using pd.to_numeric().\n",
    "# The parameter errors='coerce' handles any invalid parsing during the conversion by replacing it with NaN."
   ]
  },
  {
   "cell_type": "markdown",
   "id": "76628593-72e4-4826-b209-aa99ab84a4d4",
   "metadata": {},
   "source": [
    "# Question-6. What do you understand about the windows function in pandas and list the types of windows functions?"
   ]
  },
  {
   "cell_type": "markdown",
   "id": "d84811b8-c6b7-4aeb-b7f5-b07b2f329e1d",
   "metadata": {},
   "source": [
    "# Answer-6- In pandas, the \"rolling\" function is used to create a rolling view of a DataFrame. It's often used in time series data for calculating moving statistics over a specified window. Types of window functions include mean, sum, std, var, min, max, and more."
   ]
  },
  {
   "cell_type": "markdown",
   "id": "5e433118-7980-4e32-b34c-daae23a7d46f",
   "metadata": {},
   "source": [
    "# Q7. Write a code to print only the current month and year at the time of answering this question.\n",
    "[Hint: Use pandas.datetime function]"
   ]
  },
  {
   "cell_type": "markdown",
   "id": "3ba699f8-40ec-4374-93ca-7cf45cc5180c",
   "metadata": {},
   "source": [
    "# Answer-7"
   ]
  },
  {
   "cell_type": "code",
   "execution_count": 26,
   "id": "4d7ccce4-1287-4eb4-a9e7-0337d74386c5",
   "metadata": {},
   "outputs": [],
   "source": [
    "from datetime import datetime"
   ]
  },
  {
   "cell_type": "code",
   "execution_count": 27,
   "id": "4154d060-53c8-4e32-be33-ee2997f3e51f",
   "metadata": {},
   "outputs": [],
   "source": [
    "current_date = datetime.now()"
   ]
  },
  {
   "cell_type": "code",
   "execution_count": 29,
   "id": "a4a21203-9d7d-4115-ab35-4123eac6c9ee",
   "metadata": {},
   "outputs": [
    {
     "name": "stdout",
     "output_type": "stream",
     "text": [
      "Current month and year: September 2023\n"
     ]
    }
   ],
   "source": [
    "print(\"Current month and year:\", current_date.strftime('%B %Y'))"
   ]
  },
  {
   "cell_type": "markdown",
   "id": "5d31a8ad-130a-4a92-8f70-969fe3341b85",
   "metadata": {},
   "source": [
    "# Q8. Write a Python program that takes in two dates as input (in the format YYYY-MM-DD) and calculates the difference between them in days, hours, and minutes using Pandas time delta. The program should prompt the user to enter the dates and display the result."
   ]
  },
  {
   "cell_type": "markdown",
   "id": "a41cb609-99c9-4ac0-9313-b21b62376d01",
   "metadata": {},
   "source": [
    "# Answer-8"
   ]
  },
  {
   "cell_type": "code",
   "execution_count": 30,
   "id": "9821ba99-e589-48b0-a3d6-0f514f452919",
   "metadata": {},
   "outputs": [
    {
     "name": "stdin",
     "output_type": "stream",
     "text": [
      "Enter the first date (YYYY-MM-DD):  2023-04-23\n",
      "Enter the second date (YYYY-MM-DD):  2023-06-26\n"
     ]
    }
   ],
   "source": [
    "date1 = pd.to_datetime(input(\"Enter the first date (YYYY-MM-DD): \"))\n",
    "date2 = pd.to_datetime(input(\"Enter the second date (YYYY-MM-DD): \"))"
   ]
  },
  {
   "cell_type": "code",
   "execution_count": 31,
   "id": "11ac07a0-8049-46a0-b7a0-5f2626ac2992",
   "metadata": {},
   "outputs": [],
   "source": [
    "time_difference = date2 - date1"
   ]
  },
  {
   "cell_type": "code",
   "execution_count": 32,
   "id": "92cfdece-13c4-4baa-9821-3e16d9115a06",
   "metadata": {},
   "outputs": [
    {
     "name": "stdout",
     "output_type": "stream",
     "text": [
      "Difference in days: 64\n",
      "Difference in hours: 0\n",
      "Difference in minutes: 0\n"
     ]
    }
   ],
   "source": [
    "print(\"Difference in days:\", time_difference.days)\n",
    "print(\"Difference in hours:\", time_difference.seconds // 3600)\n",
    "print(\"Difference in minutes:\", (time_difference.seconds // 60) % 60)"
   ]
  },
  {
   "cell_type": "markdown",
   "id": "28d59d1a-8b89-4841-afee-d13c4a5738dc",
   "metadata": {},
   "source": [
    "# Q9. Write a Python program that reads a CSV file containing categorical data and converts a specified column to a categorical data type. The program should prompt the user to enter the file path, column name, and category order, and then display the sorted data."
   ]
  },
  {
   "cell_type": "markdown",
   "id": "ed1bbb02-d473-4240-b0ef-890b9065e2d2",
   "metadata": {},
   "source": [
    "# Answer-9"
   ]
  },
  {
   "cell_type": "code",
   "execution_count": 19,
   "id": "4f979257-39d1-4041-a04b-5727f2f66393",
   "metadata": {},
   "outputs": [
    {
     "name": "stdin",
     "output_type": "stream",
     "text": [
      "Enter the file path:  student_data.csv\n",
      "Enter the column name:  student_id,testscore\n",
      "Enter the category order (comma-separated):  student_id,testscore\n"
     ]
    }
   ],
   "source": [
    "file_path = input(\"Enter the file path: \")\n",
    "column_name = input(\"Enter the column name: \")\n",
    "category_order = input(\"Enter the category order (comma-separated): \").split(',')"
   ]
  },
  {
   "cell_type": "code",
   "execution_count": 20,
   "id": "cac74eee-422f-4b54-b2a5-19534105ce79",
   "metadata": {},
   "outputs": [],
   "source": [
    "df = pd.read_csv(file_path)"
   ]
  },
  {
   "cell_type": "code",
   "execution_count": 26,
   "id": "08ce904f-9e17-4a5d-af32-fe7bf73ca995",
   "metadata": {},
   "outputs": [
    {
     "data": {
      "text/plain": [
       "['Student ID', 'Test Score']\n",
       "Categories (2, object): ['Student ID', 'Test Score']"
      ]
     },
     "execution_count": 26,
     "metadata": {},
     "output_type": "execute_result"
    }
   ],
   "source": [
    "pd.Categorical(df)"
   ]
  },
  {
   "cell_type": "markdown",
   "id": "572d6cd5-6189-461d-ad7b-9a136fe8703b",
   "metadata": {},
   "source": [
    "# Q10. Write a Python program that reads a CSV file containing sales data for different products and visualizes the data using a stacked bar chart to show the sales of each product category over time. The program should prompt the user to enter the file path and display the chart."
   ]
  },
  {
   "cell_type": "markdown",
   "id": "18ba843e-56b4-430c-b4f2-7178a92cb953",
   "metadata": {},
   "source": [
    "# Answer-10-"
   ]
  },
  {
   "cell_type": "code",
   "execution_count": 2,
   "id": "a04a2d98-2574-4047-9457-3e4497acfe32",
   "metadata": {},
   "outputs": [],
   "source": [
    "import matplotlib.pyplot as plt"
   ]
  },
  {
   "cell_type": "code",
   "execution_count": 6,
   "id": "b0391d46-1936-4f8a-b701-3ad180acea66",
   "metadata": {},
   "outputs": [],
   "source": [
    "file_path = 'product.csv'"
   ]
  },
  {
   "cell_type": "code",
   "execution_count": 8,
   "id": "9c38ec49-6f3e-4eb0-b478-5ed1106f93f6",
   "metadata": {},
   "outputs": [
    {
     "data": {
      "text/html": [
       "<div>\n",
       "<style scoped>\n",
       "    .dataframe tbody tr th:only-of-type {\n",
       "        vertical-align: middle;\n",
       "    }\n",
       "\n",
       "    .dataframe tbody tr th {\n",
       "        vertical-align: top;\n",
       "    }\n",
       "\n",
       "    .dataframe thead th {\n",
       "        text-align: right;\n",
       "    }\n",
       "</style>\n",
       "<table border=\"1\" class=\"dataframe\">\n",
       "  <thead>\n",
       "    <tr style=\"text-align: right;\">\n",
       "      <th></th>\n",
       "      <th>Time</th>\n",
       "      <th>fair and lovely</th>\n",
       "      <th>chips</th>\n",
       "      <th>pizza</th>\n",
       "    </tr>\n",
       "  </thead>\n",
       "  <tbody>\n",
       "    <tr>\n",
       "      <th>0</th>\n",
       "      <td>Jan</td>\n",
       "      <td>30</td>\n",
       "      <td>40</td>\n",
       "      <td>50</td>\n",
       "    </tr>\n",
       "    <tr>\n",
       "      <th>1</th>\n",
       "      <td>Feb</td>\n",
       "      <td>45</td>\n",
       "      <td>35</td>\n",
       "      <td>55</td>\n",
       "    </tr>\n",
       "    <tr>\n",
       "      <th>2</th>\n",
       "      <td>Mar</td>\n",
       "      <td>50</td>\n",
       "      <td>60</td>\n",
       "      <td>40</td>\n",
       "    </tr>\n",
       "    <tr>\n",
       "      <th>3</th>\n",
       "      <td>Apr</td>\n",
       "      <td>35</td>\n",
       "      <td>45</td>\n",
       "      <td>65</td>\n",
       "    </tr>\n",
       "    <tr>\n",
       "      <th>4</th>\n",
       "      <td>May</td>\n",
       "      <td>55</td>\n",
       "      <td>50</td>\n",
       "      <td>70</td>\n",
       "    </tr>\n",
       "  </tbody>\n",
       "</table>\n",
       "</div>"
      ],
      "text/plain": [
       "  Time  fair and lovely  chips  pizza\n",
       "0  Jan               30     40     50\n",
       "1  Feb               45     35     55\n",
       "2  Mar               50     60     40\n",
       "3  Apr               35     45     65\n",
       "4  May               55     50     70"
      ]
     },
     "execution_count": 8,
     "metadata": {},
     "output_type": "execute_result"
    }
   ],
   "source": [
    "pd.read_csv(file_path)"
   ]
  },
  {
   "cell_type": "code",
   "execution_count": 9,
   "id": "ad3ea87b-b851-497b-8f50-c11ff59a0e3a",
   "metadata": {},
   "outputs": [],
   "source": [
    "df = pd.read_csv(file_path)"
   ]
  },
  {
   "cell_type": "code",
   "execution_count": 10,
   "id": "7e15dede-3ae4-4820-8766-e31802f56c1f",
   "metadata": {},
   "outputs": [],
   "source": [
    "df.set_index('Time', inplace=True)"
   ]
  },
  {
   "cell_type": "code",
   "execution_count": 12,
   "id": "8df70761-18ad-4ac1-b433-f28b99a81f1a",
   "metadata": {},
   "outputs": [
    {
     "data": {
      "image/png": "[encoded data removed]",
      "text/plain": [
       "<Figure size 1000x600 with 1 Axes>"
      ]
     },
     "metadata": {},
     "output_type": "display_data"
    }
   ],
   "source": [
    "ax = df.plot(kind='bar', stacked=True, figsize=(10, 6))"
   ]
  },
  {
   "cell_type": "markdown",
   "id": "7d706103-2be1-46c9-bf2b-fbff47c421a4",
   "metadata": {},
   "source": [
    "# Q11. You are given a CSV file containing student data that includes the student ID and their test score. Write a Python program that reads the CSV file, calculates the mean, median, and mode of the test scores, and displays the results in a table.\n",
    "The program should do the followingM\n",
    "I Prompt the user to enter the file path of the CSV file containing the student dataR\n",
    "I Read the CSV file into a Pandas DataFrameR\n",
    "I Calculate the mean, median, and mode of the test scores using Pandas toolsR\n",
    "I Display the mean, median, and mode in a table.\n",
    "Assume the CSV file contains the following columnsM\n",
    "I Student ID: The ID of the studentR\n",
    "I Test Score: The score of the student's test.\n",
    "Example usage of the program:\n",
    "Enter the file path of the CSV file containing the student data: student_data.csv\n",
    "+-----------+--------+\n",
    "| Statistic | Value |\n",
    "+-----------+--------+\n",
    "| Mean | 79.6 |\n",
    "| Median | 82 |\n",
    "| Mode | 85, 90 |\n",
    "+-----------+--------+\n",
    "Assume that the CSV file student_data.csv contains the following data:\n",
    "Student ID,Test Score\n",
    "1,85\n",
    "2,90\n",
    "3,80\n",
    "4,75\n",
    "5,85\n",
    "6,82\n",
    "7,78\n",
    "8,85\n",
    "9,90\n",
    "10,85\n",
    "The program should calculate the mean, median, and mode of the test scores and display the results\n",
    "in a table."
   ]
  },
  {
   "cell_type": "markdown",
   "id": "0bfb3f37-1860-43e6-8f8b-ed9accbe6031",
   "metadata": {},
   "source": [
    "# answer-11-"
   ]
  },
  {
   "cell_type": "code",
   "execution_count": 15,
   "id": "728d0b94-6ae0-41c0-9256-dea0f23cc77d",
   "metadata": {},
   "outputs": [
    {
     "name": "stdin",
     "output_type": "stream",
     "text": [
      "Enter the file path of the CSV file containing the student data:  student_data.csv\n"
     ]
    }
   ],
   "source": [
    "file_path = input(\"Enter the file path of the CSV file containing the student data: \")"
   ]
  },
  {
   "cell_type": "code",
   "execution_count": 16,
   "id": "1bb51929-044c-4c19-98c7-64e5e2064378",
   "metadata": {},
   "outputs": [],
   "source": [
    "df = pd.read_csv(file_path)"
   ]
  },
  {
   "cell_type": "code",
   "execution_count": 17,
   "id": "1903edbd-2d8f-49c8-a8a9-87a35b0a66ad",
   "metadata": {},
   "outputs": [],
   "source": [
    "mean_score = df['Test Score'].mean()\n",
    "median_score = df['Test Score'].median()\n",
    "mode_score = df['Test Score'].mode()"
   ]
  },
  {
   "cell_type": "code",
   "execution_count": 18,
   "id": "06a22b75-dab8-44ba-9ca7-2f0d1e445291",
   "metadata": {},
   "outputs": [
    {
     "name": "stdout",
     "output_type": "stream",
     "text": [
      "+-----------+--------+\n",
      "| Statistic | Value  |\n",
      "+-----------+--------+\n",
      "| Mean      | 83.5   |\n",
      "| Median    | 85     |\n",
      "| Mode      | 85     |\n",
      "+-----------+--------+\n"
     ]
    }
   ],
   "source": [
    "# Display the results in a table\n",
    "print(\"+-----------+--------+\")\n",
    "print(\"| Statistic | Value  |\")\n",
    "print(\"+-----------+--------+\")\n",
    "print(\"| Mean      | {:.1f}   |\".format(mean_score))\n",
    "print(\"| Median    | {}     |\".format(int(median_score)))\n",
    "print(\"| Mode      | {}     |\".format(', '.join(map(str, mode_score))))\n",
    "print(\"+-----------+--------+\")"
   ]
  },
  {
   "cell_type": "markdown",
   "id": "a5d9e580-68c7-434b-ae30-872fba51a102",
   "metadata": {},
   "source": [
    "# Assignment Completed"
   ]
  }
 ],
 "metadata": {
  "kernelspec": {
   "display_name": "Python 3 (ipykernel)",
   "language": "python",
   "name": "python3"
  },
  "language_info": {
   "codemirror_mode": {
    "name": "ipython",
    "version": 3
   },
   "file_extension": ".py",
   "mimetype": "text/x-python",
   "name": "python",
   "nbconvert_exporter": "python",
   "pygments_lexer": "ipython3",
   "version": "3.10.8"
  }
 },
 "nbformat": 4,
 "nbformat_minor": 5
}
